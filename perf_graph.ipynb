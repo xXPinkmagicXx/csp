{
 "cells": [
  {
   "cell_type": "code",
   "execution_count": null,
   "metadata": {},
   "outputs": [],
   "source": [
    "import pandas as pd\n",
    "import matplotlib.pyplot as plt\n",
    "import seaborn as sns\n",
    "import os\n",
    "from matplotlib.ticker import ScalarFormatter"
   ]
  },
  {
   "cell_type": "code",
   "execution_count": null,
   "metadata": {},
   "outputs": [],
   "source": [
    "## List of pandas dataframes\n",
    "all_results = []\n",
    "num_threads = [1, 2, 4, 8, 16, 32]"
   ]
  },
  {
   "cell_type": "code",
   "execution_count": null,
   "metadata": {},
   "outputs": [],
   "source": [
    "final_folder = 'final_results'\n",
    "# get all folders in the final_results directory\n",
    "all_result_folders = os.listdir(final_folder)"
   ]
  },
  {
   "cell_type": "markdown",
   "metadata": {},
   "source": [
    "## Helper methods"
   ]
  },
  {
   "cell_type": "code",
   "execution_count": null,
   "metadata": {},
   "outputs": [],
   "source": [
    "def is_concurrent_perf(file_path:str)-> bool:\n",
    "    \"\"\"\n",
    "    Check if the file is a concurrent performance result file.\n",
    "    :param file: file name\n",
    "    :return: True if the file is a concurrent performance result file, False otherwise\n",
    "    \"\"\"\n",
    "    return file_path.startswith('concurrent') and file_path.endswith('_perf.txt')\n",
    "\n",
    "def is_independent_perf(file_path:str)-> bool:\n",
    "    \"\"\"\n",
    "    Check if the file is a concurrent performance result file.\n",
    "    :param file: file name\n",
    "    :return: True if the file is a concurrent performance result file, False otherwise\n",
    "    \"\"\"\n",
    "    return file_path.startswith('independent') and file_path.endswith('_perf.txt')\n",
    "\n",
    "def is_hyper(file_path: str)-> bool:\n",
    "    \"\"\"\n",
    "    Check if the file is a hyper performance result file.\n",
    "    :param file: file name\n",
    "    :return: True if the file is a hyper performance result file, False otherwise\n",
    "    \"\"\"\n",
    "    return 'hyper' in file_path\n",
    "\n",
    "def is_numa_0(file_path: str)-> bool:\n",
    "    \"\"\"\n",
    "    Check if the file is a numa 0 performance result file.\n",
    "    :param file: file name\n",
    "    :return: True if the file is a numa 0 performance result file, False otherwise\n",
    "    \"\"\"\n",
    "    return 'numa_0' in file_path\n",
    "\n",
    "def is_no_affinity(file_path: str)-> bool:\n",
    "    \"\"\"\n",
    "    Check if the file is a no affinity performance result file.\n",
    "    :param file: file name\n",
    "    :return: True if the file is a no affinity performance result file, False otherwise\n",
    "    \"\"\"\n",
    "    return 'no_affinity' in file_path\n",
    "\n",
    "def is_multi_numa(file_path: str)-> bool:\n",
    "    \"\"\"\n",
    "    Check if the file is a multi numa performance result file.\n",
    "    :param file: file name\n",
    "    :return: True if the file is a multi numa performance result file, False otherwise\n",
    "    \"\"\"\n",
    "    return 'multi_numa' in file_path\n",
    "\n",
    "def get_affinity_setting(file_path: str)-> str:\n",
    "    \"\"\"\n",
    "    Get the affinity setting from the file name.\n",
    "    :param file: file name\n",
    "    :return: affinity setting\n",
    "    \"\"\"\n",
    "    if is_hyper(file_path):\n",
    "        return 'hyper_threading'\n",
    "    elif is_numa_0(file_path):\n",
    "        return 'numa_0'\n",
    "    elif is_multi_numa(file_path):\n",
    "        return 'multi_numa'\n",
    "    elif is_no_affinity(file_path):\n",
    "        return ''\n",
    "    else:\n",
    "        raise ValueError('Unknown affinity setting')\n",
    "\n",
    "def get_affinity_setting_title(file_path: str)-> str:\n",
    "    \"\"\"\n",
    "    Get the affinity setting from the file name.\n",
    "    :param file: file name\n",
    "    :return: affinity setting\n",
    "    \"\"\"\n",
    "    if is_hyper(file_path):\n",
    "        return 'hyper_threading'\n",
    "    elif is_numa_0(file_path):\n",
    "        return 'numa_0'\n",
    "    elif is_multi_numa(file_path):\n",
    "        return 'multi_numa'\n",
    "    elif is_no_affinity(file_path):\n",
    "        return 'no_affinity'\n",
    "    else:\n",
    "        raise ValueError('Unknown affinity setting')\n"
   ]
  },
  {
   "cell_type": "code",
   "execution_count": null,
   "metadata": {},
   "outputs": [],
   "source": [
    "def get_all_perf_result_folders():\n",
    "    \"\"\"\n",
    "    Get all performance result folders.\n",
    "    :return: list of performance result folders\n",
    "    \"\"\"\n",
    "    result_folders: list[str] = [] \n",
    "    for folder in all_result_folders:\n",
    "        current_path = os.path.join(final_folder, folder)\n",
    "        if os.path.isdir(current_path):\n",
    "            result_folders.append(folder)\n",
    "    \n",
    "    # wher the folder cotains the string \"perf_\"\n",
    "    perf_result_folders = [f for f in result_folders if f.startswith('perf_')]\n",
    "    return perf_result_folders"
   ]
  },
  {
   "cell_type": "markdown",
   "metadata": {},
   "source": [
    "## Code "
   ]
  },
  {
   "cell_type": "code",
   "execution_count": null,
   "metadata": {},
   "outputs": [],
   "source": [
    "def read_value_key(line: str)-> tuple[str, int, float]:\n",
    "    \"\"\"\n",
    "    Read the value and key from the file name.\n",
    "    :param read_file: file name\n",
    "    :return: tuple of value and key\n",
    "    \"\"\"\n",
    "    # Split the file name by '_'\n",
    "    words = line.split()\n",
    "    # if 'instructions' in words:\n",
    "\n",
    "    \n",
    "    count = words[0]\n",
    "    key = words[1] \n",
    "    # Get the last word (the percentage) and remove the parentheses to parse it to a float\n",
    "    if(len(words) > 2):\n",
    "        percentage = float(words[-1].strip(\"()%\"))\n",
    "    else:\n",
    "        percentage = None\n",
    "    \n",
    "\n",
    "    return key, int(count), percentage\n"
   ]
  },
  {
   "cell_type": "code",
   "execution_count": null,
   "metadata": {},
   "outputs": [],
   "source": [
    "def read_perf_file(current_folder: str, perf_txt_file: str)-> pd.DataFrame:\n",
    "    \"\"\"\n",
    "    \"\"\"\n",
    "    columns = ['key', 'count', 'percentage']\n",
    "    df = pd.DataFrame(columns=columns)\n",
    "    current_file_path = final_folder + '/' + current_folder + '/' + perf_txt_file\n",
    "    with open(current_file_path, 'r') as read_file:\n",
    "        # all_lines = read_file.readlines()\n",
    "        # for i, line in enumerate(all_lines):\n",
    "        #     print(f\"Line {i}: {line}\")\n",
    "        # get rid of the first 5 lines\n",
    "        _ = read_file.readline()\n",
    "        _ = read_file.readline()\n",
    "        _ = read_file.readline()\n",
    "        _ = read_file.readline()\n",
    "        _ = read_file.readline()\n",
    "\n",
    "        for i in range(11):\n",
    "            line = read_file.readline()\n",
    "            try:\n",
    "                key, count, percentage = read_value_key(line)\n",
    "                df.loc[len(df)] = [key, count, percentage]\n",
    "            except ValueError as e:\n",
    "                print(f\"Error reading line {i}: {e}\")\n",
    "        _ = read_file.readline()\n",
    "        line12 = read_file.readline()\n",
    "        return df"
   ]
  },
  {
   "cell_type": "code",
   "execution_count": null,
   "metadata": {},
   "outputs": [],
   "source": [
    "all_perf_results_folders = get_all_perf_result_folders()\n",
    "all_perf_results_folders"
   ]
  },
  {
   "cell_type": "code",
   "execution_count": null,
   "metadata": {},
   "outputs": [],
   "source": [
    "# Only keep the folders that start with 'perf_' \n",
    "all_perf_results_folders = get_all_perf_result_folders()\n",
    "for perf_result_folder in all_perf_results_folders:\n",
    "\n",
    "    # Go into the folder and get all txt files\n",
    "    folder_path = os.path.join(final_folder, perf_result_folder)\n",
    "    all_txt_files = os.listdir(folder_path)        \n",
    "    # Only keep the txt files\n",
    "    concurrent_txt_files = [file for file in all_txt_files if is_concurrent_perf(file)]\n",
    "    indpendent_txt_files = [file for file in all_txt_files if is_independent_perf(file)]\n",
    "\n",
    "    # for concurrent_txt_file in concurrent_txt_files:\n",
    "    #     # Read the file and store it in a dataframe\n",
    "    #     df = read_perf_file(perf_result_folder, concurrent_txt_file)\n",
    "    #     current_file = os.path.join(final_folder, perf_result_folder) + '/' + concurrent_txt_file.replace(\".txt\", \".csv\")\n",
    "    #     df.to_csv(current_file)\n",
    "    for indpendent_txt_file in indpendent_txt_files:\n",
    "        # Read the file and store it in a dataframe\n",
    "        df = read_perf_file(perf_result_folder, indpendent_txt_file)\n",
    "        # print(\"ind_txt:\" , indpendent_txt_file)\n",
    "        \n",
    "        current_csv_file_name = indpendent_txt_file.replace(\".txt\", \".csv\")\n",
    "        full_csv_save_path = os.path.join(folder_path, current_csv_file_name)\n",
    "        print(\"full_csv_path:\", full_csv_save_path, sep=\"\\n\")\n",
    "        df.to_csv(full_csv_save_path)\n"
   ]
  },
  {
   "cell_type": "code",
   "execution_count": null,
   "metadata": {},
   "outputs": [],
   "source": [
    "def get_data_for_key(folder: str, par_method: str, key: str) -> list[int]:\n",
    "    ys = []\n",
    "    affinity = get_affinity_setting(folder)\n",
    "    \n",
    "    # To get results from the no affinity case\n",
    "    if affinity != '':\n",
    "        affinity = '_' + affinity \n",
    "\n",
    "    \n",
    "    for threads in num_threads:\n",
    "\n",
    "        current_file = f\"final_results/{folder}/{par_method}{affinity}_{str(threads)}_perf.csv\"\n",
    "        df = pd.read_csv(current_file)\n",
    "        df_cache_misses = df[df['key'] == key]\n",
    "        ys.append(df_cache_misses[\"count\"].values[0])\n",
    "    return ys"
   ]
  },
  {
   "cell_type": "code",
   "execution_count": null,
   "metadata": {},
   "outputs": [],
   "source": [
    "all_perf_results_folders = get_all_perf_result_folders()\n",
    "all_perf_results_folders.sort()\n",
    "all_perf_results_folders"
   ]
  },
  {
   "cell_type": "code",
   "execution_count": null,
   "metadata": {},
   "outputs": [],
   "source": [
    "\n",
    "def create_bar_chart(key: str, par_method: str, yticks: list = None, save: bool = False) -> tuple[plt.Figure, plt.Axes]:\n",
    "    fig, ax = plt.subplots(figsize=(10, 6), nrows=2, ncols=2)\n",
    "    fig.tight_layout(pad=3.0)\n",
    "    key_cap = key\n",
    "    par_cap = par_method.capitalize()\n",
    "    fig.suptitle(f'{par_cap} - {key_cap} for Different Affinity Settings')\n",
    "    bar_colors = plt.rcParams['axes.prop_cycle'].by_key()['color']\n",
    "    for i, perf_result_folder in enumerate(all_perf_results_folders[:-1]):\n",
    "\n",
    "        row = i // 2\n",
    "        col = i % 2\n",
    "        # Read the file and store it in a dataframe\n",
    "        data = get_data_for_key(perf_result_folder, par_method, key)\n",
    "\n",
    "\n",
    "        ax[row, col].set_title(f\"{get_affinity_setting_title(perf_result_folder)}\")\n",
    "        ax[row,col].bar(range(len(num_threads)), data, color=bar_colors)\n",
    "        ax[row, col].set_xticks(range(len(num_threads)))\n",
    "        ax[row,col].set_xticklabels(num_threads)\n",
    "        \n",
    "        if yticks is not None:\n",
    "            ax[row, col].set_yticks(yticks)\n",
    "        \n",
    "        if(row == 1):\n",
    "            ax[row, col].set_xlabel('# of Threads')\n",
    "        if col == 0:\n",
    "            ax[row, col].set_ylabel(key_cap)\n",
    "    if save:\n",
    "        plt.savefig(f'final_results/figs/{par_method}_{key}_bar_chart.png')\n",
    "\n",
    "            \n",
    "    return fig, ax\n",
    "        "
   ]
  },
  {
   "cell_type": "code",
   "execution_count": null,
   "metadata": {},
   "outputs": [],
   "source": [
    "def get_row_col_beside(i: int) -> tuple[int, int]:\n",
    "    \"\"\"\n",
    "    Get the row and column for the given index.\n",
    "    :param i: index\n",
    "    :return: row and column\n",
    "    \"\"\"\n",
    "    row = i // 2\n",
    "    col = i % 2\n",
    "    return row, col\n",
    "def get_row_col_below(i: int) -> tuple[int, int]:\n",
    "    \"\"\"\n",
    "    Get the row and column for the given index.\n",
    "    :param i: index\n",
    "    :return: row and column\n",
    "    \"\"\"\n",
    "    row = i // 2 + 2\n",
    "    col = i % 2 + 2\n",
    "    return row, col"
   ]
  },
  {
   "cell_type": "code",
   "execution_count": null,
   "metadata": {},
   "outputs": [],
   "source": [
    "def create_bar_chart_all(key: str,  yticks: list = None, save: bool = False) -> tuple[plt.Figure, plt.Axes]:\n",
    "    fig, ax = plt.subplots(figsize=(12, 7), nrows=2, ncols=4)\n",
    "    # fig.tight_layout(pad=3.0)\n",
    "    key_cap = key\n",
    "    fig.suptitle(f'{key_cap} for Different Affinity Settings', fontsize=16)\n",
    "    bar_colors = plt.rcParams['axes.prop_cycle'].by_key()['color']\n",
    "    for i, perf_result_folder in enumerate(all_perf_results_folders[:-1]):\n",
    "\n",
    "        row = i // 4\n",
    "        col = i % 4\n",
    "        print(\"row:\", row, \"col:\", col)\n",
    "        # Read the file and store it in a dataframe\n",
    "        independent_data = get_data_for_key(perf_result_folder, 'independent', key)\n",
    "        concurrent_data = get_data_for_key(perf_result_folder, 'concurrent', key)\n",
    "\n",
    "        # Independent data\n",
    "        ax[row, col].set_title(f\"Independent \\n {get_affinity_setting_title(perf_result_folder)}\")\n",
    "        \n",
    "        ax[row, col].bar(range(len(num_threads)), independent_data, color=bar_colors)\n",
    "        ax[row, col].set_xticks(range(len(num_threads)))\n",
    "        ax[row, col].set_xticklabels(num_threads)\n",
    "\n",
    "        # Concurrent data\n",
    "        # ax[row + 1, col].set_title(f\"Concurrent \\n {get_affinity_setting_title(perf_result_folder)}\")\n",
    "        ax[row + 1, col].set_title(f\"Concurrent\")\n",
    "        ax[row + 1, col].bar(range(len(num_threads)), concurrent_data, color=bar_colors)\n",
    "        ax[row + 1, col].set_xticks(range(len(num_threads)))\n",
    "        ax[row + 1, col].set_xticklabels(num_threads)\n",
    "        \n",
    "        \n",
    "        formatter = ScalarFormatter(useMathText=True)\n",
    "        formatter.set_scientific(True)\n",
    "        formatter.set_powerlimits((-1, 1))\n",
    "        ax[row, col].yaxis.set_major_formatter(formatter)\n",
    "        ax[row + 1, col].yaxis.set_major_formatter(formatter)\n",
    "        if yticks is not None:\n",
    "            ax[row, col].set_yticks(yticks)\n",
    "            ax[row + 1, col].set_yticks(yticks)\n",
    "             # Apply 10^ notation to the y-axis\n",
    "        \n",
    "        ax[row + 1, col].set_xlabel('# of Threads')\n",
    "        if col == 0:\n",
    "            ax[row, col].set_ylabel(key_cap)\n",
    "            ax[row+1, col].set_ylabel(key_cap)\n",
    "        if save:\n",
    "            plt.savefig(f'final_results/figs/{key}_bar_chart_all.png')\n",
    "\n",
    "                \n",
    "    return fig, ax\n",
    "        "
   ]
  },
  {
   "cell_type": "code",
   "execution_count": null,
   "metadata": {},
   "outputs": [],
   "source": [
    "yticks = [x*10e7 for x in range(0, 36, 5)]\n",
    "fig, ax = create_bar_chart_all('cache-misses', yticks, save=True)"
   ]
  },
  {
   "cell_type": "code",
   "execution_count": null,
   "metadata": {},
   "outputs": [],
   "source": [
    "yticks = [i * 10e6 for i in range(0, 30, 5)]\n",
    "fig, ax = create_bar_chart_all('dTLB-load-misses', yticks, save=True)"
   ]
  },
  {
   "cell_type": "code",
   "execution_count": null,
   "metadata": {},
   "outputs": [],
   "source": [
    "yticks = [i * 10e5 for i in range(0, 15, 2)]\n",
    "fig, ax = create_bar_chart_all('context-switches', yticks, save=True)"
   ]
  },
  {
   "cell_type": "markdown",
   "metadata": {},
   "source": [
    "## Figures"
   ]
  },
  {
   "cell_type": "markdown",
   "metadata": {},
   "source": [
    "### Instructions and Cycles"
   ]
  },
  {
   "cell_type": "code",
   "execution_count": null,
   "metadata": {},
   "outputs": [],
   "source": [
    "key: str = 'cycles'\n",
    "yticks = [a*10e10 for a in range(0, 18, 2)]\n",
    "fig, ax = create_bar_chart(key, 'concurrent',  yticks, save=True)"
   ]
  },
  {
   "cell_type": "code",
   "execution_count": null,
   "metadata": {},
   "outputs": [],
   "source": [
    "yticks = [a*10e9 for a in range(0, 50, 5)]\n",
    "fig, ax = create_bar_chart('instructions', 'concurrent', yticks, save=True)"
   ]
  },
  {
   "cell_type": "markdown",
   "metadata": {},
   "source": [
    "### Cache Misses"
   ]
  },
  {
   "cell_type": "code",
   "execution_count": null,
   "metadata": {},
   "outputs": [],
   "source": [
    "yticks = [i * 10e7 for i in range(0, 40, 5)]\n",
    "fig, ax = create_bar_chart('cache-misses', 'concurrent', yticks, save=True)"
   ]
  },
  {
   "cell_type": "code",
   "execution_count": null,
   "metadata": {},
   "outputs": [],
   "source": [
    "yticks = [i * 10e7 for i in range(0, 40, 5)]\n",
    "fig, ax = create_bar_chart('cache-misses', 'independent', yticks, save=True)"
   ]
  },
  {
   "cell_type": "markdown",
   "metadata": {},
   "source": [
    "### iTLB-load-misses"
   ]
  },
  {
   "cell_type": "code",
   "execution_count": null,
   "metadata": {},
   "outputs": [],
   "source": [
    "key = 'iTLB-load-misses'\n",
    "yticks = [i * 10e6 for i in range(0, 12,2)]\n",
    "fig, ax = create_bar_chart(key, 'concurrent', yticks, save=True)\n"
   ]
  },
  {
   "cell_type": "code",
   "execution_count": null,
   "metadata": {},
   "outputs": [],
   "source": [
    "key = 'iTLB-load-misses'\n",
    "yticks = [i * 10e6 for i in range(0, 12,2)]\n",
    "fig, ax = create_bar_chart(key, 'independent', yticks, save=True)"
   ]
  },
  {
   "cell_type": "markdown",
   "metadata": {},
   "source": [
    "### dTLB-load-misses"
   ]
  },
  {
   "cell_type": "code",
   "execution_count": null,
   "metadata": {},
   "outputs": [],
   "source": [
    "key = 'dTLB-load-misses'\n",
    "yticks = [i * 10e6 for i in range(0, 30, 5)]\n",
    "fig, ax = create_bar_chart(key, 'concurrent', yticks, save=True)"
   ]
  },
  {
   "cell_type": "code",
   "execution_count": null,
   "metadata": {},
   "outputs": [],
   "source": [
    "key = 'dTLB-load-misses'\n",
    "yticks = [i * 10e6 for i in range(0, 30, 5)]\n",
    "fig, ax = create_bar_chart(key, 'independent', yticks, save=True)"
   ]
  },
  {
   "cell_type": "markdown",
   "metadata": {},
   "source": [
    "### Context Switches"
   ]
  },
  {
   "cell_type": "code",
   "execution_count": null,
   "metadata": {},
   "outputs": [],
   "source": [
    "key = 'context-switches'\n",
    "yticks = [i * 10e5 for i in range(0, 15, 2)]\n",
    "fig, ax = create_bar_chart(key, 'concurrent', yticks, save=True)"
   ]
  },
  {
   "cell_type": "code",
   "execution_count": null,
   "metadata": {},
   "outputs": [],
   "source": [
    "key = 'context-switches'\n",
    "yticks = [i * 10e5 for i in range(0, 15, 2)]\n",
    "fig, ax = create_bar_chart(key, 'independent', yticks, save=True)"
   ]
  },
  {
   "cell_type": "markdown",
   "metadata": {},
   "source": [
    "## Independent Figures"
   ]
  },
  {
   "cell_type": "code",
   "execution_count": null,
   "metadata": {},
   "outputs": [],
   "source": [
    "par_method = 'independent'"
   ]
  },
  {
   "cell_type": "code",
   "execution_count": null,
   "metadata": {},
   "outputs": [],
   "source": [
    "key: str = 'cycles'\n",
    "yticks = [a*10e9 for a in range(0, 50, 5)]\n",
    "fig, ax = create_bar_chart(key, par_method,  yticks, save=True)"
   ]
  },
  {
   "cell_type": "code",
   "execution_count": null,
   "metadata": {},
   "outputs": [],
   "source": [
    "key: str = 'instructions'\n",
    "yticks = [a*10e9 for a in range(0, 31, 5)]\n",
    "fig, ax = create_bar_chart(key, par_method,  yticks, save=True)"
   ]
  },
  {
   "cell_type": "code",
   "execution_count": null,
   "metadata": {},
   "outputs": [],
   "source": [
    "key: str = 'cache-misses'\n",
    "yticks = [a*10e6 for a in range(0, 81, 10)]\n",
    "fig, ax = create_bar_chart(key, par_method,  yticks, save=True)"
   ]
  },
  {
   "cell_type": "code",
   "execution_count": null,
   "metadata": {},
   "outputs": [],
   "source": [
    "key: str = 'context-switches'\n",
    "yticks = [a*10e4 for a in range(0, 16, 2)]\n",
    "fig, ax = create_bar_chart(key, par_method,  yticks, save=True)"
   ]
  },
  {
   "cell_type": "code",
   "execution_count": null,
   "metadata": {},
   "outputs": [],
   "source": [
    "key: str = 'iTLB-load-misses'\n",
    "yticks = [a*10e5 for a in range(0, 16, 2)]\n",
    "fig, ax = create_bar_chart(key, par_method,  yticks, save=True)"
   ]
  },
  {
   "cell_type": "code",
   "execution_count": null,
   "metadata": {},
   "outputs": [],
   "source": [
    "key: str = 'dTLB-load-misses'\n",
    "yticks = [a*10e6 for a in range(0, 16, 2)]\n",
    "fig, ax = create_bar_chart(key, par_method,  yticks, save=True)"
   ]
  }
 ],
 "metadata": {
  "kernelspec": {
   "display_name": "csp",
   "language": "python",
   "name": "python3"
  },
  "language_info": {
   "codemirror_mode": {
    "name": "ipython",
    "version": 3
   },
   "file_extension": ".py",
   "mimetype": "text/x-python",
   "name": "python",
   "nbconvert_exporter": "python",
   "pygments_lexer": "ipython3",
   "version": "3.12.9"
  }
 },
 "nbformat": 4,
 "nbformat_minor": 2
}
